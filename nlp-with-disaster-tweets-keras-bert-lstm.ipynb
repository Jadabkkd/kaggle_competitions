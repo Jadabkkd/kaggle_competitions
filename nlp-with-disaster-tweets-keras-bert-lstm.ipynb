{
 "cells": [
  {
   "cell_type": "markdown",
   "id": "44865ff9",
   "metadata": {
    "_cell_guid": "b1076dfc-b9ad-4769-8c92-a6c4dae69d19",
    "_uuid": "8f2839f25d086af736a60e9eeb907d3b93b6e0e5",
    "execution": {
     "iopub.execute_input": "2023-02-15T14:24:53.918608Z",
     "iopub.status.busy": "2023-02-15T14:24:53.918144Z",
     "iopub.status.idle": "2023-02-15T14:24:53.923717Z",
     "shell.execute_reply": "2023-02-15T14:24:53.922651Z",
     "shell.execute_reply.started": "2023-02-15T14:24:53.918570Z"
    },
    "papermill": {
     "duration": 0.009767,
     "end_time": "2023-02-20T19:07:44.469279",
     "exception": false,
     "start_time": "2023-02-20T19:07:44.459512",
     "status": "completed"
    },
    "tags": []
   },
   "source": [
    "## Import Library"
   ]
  },
  {
   "cell_type": "code",
   "execution_count": 1,
   "id": "40d5e2d5",
   "metadata": {
    "execution": {
     "iopub.execute_input": "2023-02-20T19:07:44.484380Z",
     "iopub.status.busy": "2023-02-20T19:07:44.483475Z",
     "iopub.status.idle": "2023-02-20T19:07:52.561682Z",
     "shell.execute_reply": "2023-02-20T19:07:52.560679Z"
    },
    "papermill": {
     "duration": 8.088556,
     "end_time": "2023-02-20T19:07:52.564249",
     "exception": false,
     "start_time": "2023-02-20T19:07:44.475693",
     "status": "completed"
    },
    "tags": []
   },
   "outputs": [],
   "source": [
    "import numpy as np\n",
    "import pandas as pd\n",
    "\n",
    "\n",
    "import nltk\n",
    "from nltk.corpus import stopwords\n",
    "\n",
    "\n",
    "# tf and Keras\n",
    "import tensorflow as tf\n",
    "import keras.api._v2.keras as keras\n",
    "from keras.api._v2.keras.preprocessing.text import Tokenizer\n",
    "from keras.api._v2.keras.utils import pad_sequences\n",
    "import keras.api._v2.keras.models as models\n",
    "import keras.api._v2.keras.layers as layers\n",
    "import keras.api._v2.keras.losses as losses\n",
    "import keras.api._v2.keras.activations as activations\n",
    "import keras.api._v2.keras.optimizers as optimizers\n",
    "import keras.api._v2.keras.metrics as metrics\n",
    "\n",
    "from sklearn.model_selection import KFold,ShuffleSplit,StratifiedKFold\n",
    "\n",
    "from bs4 import BeautifulSoup as bs\n",
    "import re\n",
    "import seaborn as sns\n",
    "import matplotlib.pyplot as plt"
   ]
  },
  {
   "cell_type": "code",
   "execution_count": 2,
   "id": "5c3a15ed",
   "metadata": {
    "execution": {
     "iopub.execute_input": "2023-02-20T19:07:52.578532Z",
     "iopub.status.busy": "2023-02-20T19:07:52.577938Z",
     "iopub.status.idle": "2023-02-20T19:07:52.582250Z",
     "shell.execute_reply": "2023-02-20T19:07:52.581312Z"
    },
    "papermill": {
     "duration": 0.01358,
     "end_time": "2023-02-20T19:07:52.584302",
     "exception": false,
     "start_time": "2023-02-20T19:07:52.570722",
     "status": "completed"
    },
    "tags": []
   },
   "outputs": [],
   "source": [
    "# seaborn theme\n",
    "# sns.set_palette(sns.color_palette(\"husl\",4))"
   ]
  },
  {
   "cell_type": "markdown",
   "id": "eb23ec9b",
   "metadata": {
    "execution": {
     "iopub.execute_input": "2023-02-15T14:34:05.096789Z",
     "iopub.status.busy": "2023-02-15T14:34:05.096348Z",
     "iopub.status.idle": "2023-02-15T14:34:05.101728Z",
     "shell.execute_reply": "2023-02-15T14:34:05.100566Z",
     "shell.execute_reply.started": "2023-02-15T14:34:05.096754Z"
    },
    "papermill": {
     "duration": 0.006129,
     "end_time": "2023-02-20T19:07:52.596563",
     "exception": false,
     "start_time": "2023-02-20T19:07:52.590434",
     "status": "completed"
    },
    "tags": []
   },
   "source": [
    "# Import DATA"
   ]
  },
  {
   "cell_type": "code",
   "execution_count": 3,
   "id": "bfdfedbf",
   "metadata": {
    "execution": {
     "iopub.execute_input": "2023-02-20T19:07:52.610567Z",
     "iopub.status.busy": "2023-02-20T19:07:52.610202Z",
     "iopub.status.idle": "2023-02-20T19:07:52.684348Z",
     "shell.execute_reply": "2023-02-20T19:07:52.683374Z"
    },
    "papermill": {
     "duration": 0.084008,
     "end_time": "2023-02-20T19:07:52.686713",
     "exception": false,
     "start_time": "2023-02-20T19:07:52.602705",
     "status": "completed"
    },
    "tags": []
   },
   "outputs": [],
   "source": [
    "train_df = pd.read_csv('/kaggle/input/nlp-getting-started/train.csv')\n",
    "test_df = pd.read_csv('/kaggle/input/nlp-getting-started/test.csv')\n",
    "\n",
    "#Shuffle the data\n",
    "train_df = train_df.sample(frac = 1).reset_index(drop = True)"
   ]
  },
  {
   "cell_type": "code",
   "execution_count": 4,
   "id": "ab6adb44",
   "metadata": {
    "execution": {
     "iopub.execute_input": "2023-02-20T19:07:52.700746Z",
     "iopub.status.busy": "2023-02-20T19:07:52.700422Z",
     "iopub.status.idle": "2023-02-20T19:07:52.716772Z",
     "shell.execute_reply": "2023-02-20T19:07:52.715830Z"
    },
    "papermill": {
     "duration": 0.02581,
     "end_time": "2023-02-20T19:07:52.718995",
     "exception": false,
     "start_time": "2023-02-20T19:07:52.693185",
     "status": "completed"
    },
    "tags": []
   },
   "outputs": [
    {
     "data": {
      "text/html": [
       "<div>\n",
       "<style scoped>\n",
       "    .dataframe tbody tr th:only-of-type {\n",
       "        vertical-align: middle;\n",
       "    }\n",
       "\n",
       "    .dataframe tbody tr th {\n",
       "        vertical-align: top;\n",
       "    }\n",
       "\n",
       "    .dataframe thead th {\n",
       "        text-align: right;\n",
       "    }\n",
       "</style>\n",
       "<table border=\"1\" class=\"dataframe\">\n",
       "  <thead>\n",
       "    <tr style=\"text-align: right;\">\n",
       "      <th></th>\n",
       "      <th>id</th>\n",
       "      <th>keyword</th>\n",
       "      <th>location</th>\n",
       "      <th>text</th>\n",
       "      <th>target</th>\n",
       "    </tr>\n",
       "  </thead>\n",
       "  <tbody>\n",
       "    <tr>\n",
       "      <th>0</th>\n",
       "      <td>9466</td>\n",
       "      <td>terrorism</td>\n",
       "      <td>NaN</td>\n",
       "      <td>DHS Refuses to Call Chattanooga Û÷Islamic Ter...</td>\n",
       "      <td>1</td>\n",
       "    </tr>\n",
       "    <tr>\n",
       "      <th>1</th>\n",
       "      <td>1842</td>\n",
       "      <td>burned</td>\n",
       "      <td>Oakland, CA</td>\n",
       "      <td>Burned dog finds new home with young burn vict...</td>\n",
       "      <td>1</td>\n",
       "    </tr>\n",
       "    <tr>\n",
       "      <th>2</th>\n",
       "      <td>10817</td>\n",
       "      <td>wrecked</td>\n",
       "      <td>At your back</td>\n",
       "      <td>Wrecked emotions.</td>\n",
       "      <td>0</td>\n",
       "    </tr>\n",
       "    <tr>\n",
       "      <th>3</th>\n",
       "      <td>523</td>\n",
       "      <td>army</td>\n",
       "      <td>NaN</td>\n",
       "      <td>One Direction Is my pick for http://t.co/q2eBl...</td>\n",
       "      <td>0</td>\n",
       "    </tr>\n",
       "    <tr>\n",
       "      <th>4</th>\n",
       "      <td>6372</td>\n",
       "      <td>hostages</td>\n",
       "      <td>NaN</td>\n",
       "      <td>No #news of #hostages in #Libya\\n\\nhttp://t.co...</td>\n",
       "      <td>1</td>\n",
       "    </tr>\n",
       "  </tbody>\n",
       "</table>\n",
       "</div>"
      ],
      "text/plain": [
       "      id    keyword      location  \\\n",
       "0   9466  terrorism           NaN   \n",
       "1   1842     burned   Oakland, CA   \n",
       "2  10817    wrecked  At your back   \n",
       "3    523       army           NaN   \n",
       "4   6372   hostages           NaN   \n",
       "\n",
       "                                                text  target  \n",
       "0  DHS Refuses to Call Chattanooga Û÷Islamic Ter...       1  \n",
       "1  Burned dog finds new home with young burn vict...       1  \n",
       "2                                  Wrecked emotions.       0  \n",
       "3  One Direction Is my pick for http://t.co/q2eBl...       0  \n",
       "4  No #news of #hostages in #Libya\\n\\nhttp://t.co...       1  "
      ]
     },
     "execution_count": 4,
     "metadata": {},
     "output_type": "execute_result"
    }
   ],
   "source": [
    "train_df.head()"
   ]
  },
  {
   "cell_type": "markdown",
   "id": "1bbb1089",
   "metadata": {
    "execution": {
     "iopub.execute_input": "2023-02-15T14:47:32.580632Z",
     "iopub.status.busy": "2023-02-15T14:47:32.580229Z",
     "iopub.status.idle": "2023-02-15T14:47:32.585068Z",
     "shell.execute_reply": "2023-02-15T14:47:32.583952Z",
     "shell.execute_reply.started": "2023-02-15T14:47:32.580593Z"
    },
    "papermill": {
     "duration": 0.006161,
     "end_time": "2023-02-20T19:07:52.731463",
     "exception": false,
     "start_time": "2023-02-20T19:07:52.725302",
     "status": "completed"
    },
    "tags": []
   },
   "source": [
    "# Text cleaning"
   ]
  },
  {
   "cell_type": "code",
   "execution_count": 5,
   "id": "d578e7a9",
   "metadata": {
    "execution": {
     "iopub.execute_input": "2023-02-20T19:07:52.745551Z",
     "iopub.status.busy": "2023-02-20T19:07:52.744785Z",
     "iopub.status.idle": "2023-02-20T19:07:52.755034Z",
     "shell.execute_reply": "2023-02-20T19:07:52.754183Z"
    },
    "papermill": {
     "duration": 0.019288,
     "end_time": "2023-02-20T19:07:52.756986",
     "exception": false,
     "start_time": "2023-02-20T19:07:52.737698",
     "status": "completed"
    },
    "tags": []
   },
   "outputs": [],
   "source": [
    "from unidecode import unidecode\n",
    "\n",
    "def text_cleaner(txts):\n",
    "    txts = txts.lower()\n",
    "    clean_html_tag = lambda x: str(bs(x, 'html.parser'))\n",
    "    clean_http = lambda x: str(re.sub(r'http\\S+',\"\",x))\n",
    "    clean_special_char = lambda x: str(re.sub(r\"[^a-zA-Z0-9 ]+\",\"\", x))\n",
    "    remove_mentions = lambda x: str(re.sub(r\"@\\w+\",'',x))\n",
    "    \n",
    "    txts = clean_html_tag(clean_http(clean_special_char(remove_mentions(txts))))\n",
    "    txts = re.sub(r\"\\d+\",'',txts) # Remove all numeric char\n",
    "    \n",
    "    return txts.strip() # Remove white space\n",
    "\n",
    "\n",
    "def remove_emoji(text):\n",
    "    emoji_pattern = re.compile(\"[\"\n",
    "                           u\"\\U0001F600-\\U0001F64F\"  # emoticons\n",
    "                           u\"\\U0001F300-\\U0001F5FF\"  # symbols & pictographs\n",
    "                           u\"\\U0001F680-\\U0001F6FF\"  # transport & map symbols\n",
    "                           u\"\\U0001F1E0-\\U0001F1FF\"  # flags (iOS)\n",
    "                           u\"\\U00002702-\\U000027B0\"\n",
    "                           u\"\\U000024C2-\\U0001F251\"\n",
    "                           \"]+\", flags=re.UNICODE)\n",
    "    return emoji_pattern.sub(r'', text)"
   ]
  },
  {
   "cell_type": "code",
   "execution_count": 6,
   "id": "dfbbb9bf",
   "metadata": {
    "execution": {
     "iopub.execute_input": "2023-02-20T19:07:52.771226Z",
     "iopub.status.busy": "2023-02-20T19:07:52.770369Z",
     "iopub.status.idle": "2023-02-20T19:07:53.563890Z",
     "shell.execute_reply": "2023-02-20T19:07:53.562802Z"
    },
    "papermill": {
     "duration": 0.803188,
     "end_time": "2023-02-20T19:07:53.566455",
     "exception": false,
     "start_time": "2023-02-20T19:07:52.763267",
     "status": "completed"
    },
    "tags": []
   },
   "outputs": [],
   "source": [
    "train_df.text = train_df.text.apply(text_cleaner)\n",
    "train_df.text = train_df.text.apply(remove_emoji)"
   ]
  },
  {
   "cell_type": "code",
   "execution_count": 7,
   "id": "0ebae66f",
   "metadata": {
    "execution": {
     "iopub.execute_input": "2023-02-20T19:07:53.580846Z",
     "iopub.status.busy": "2023-02-20T19:07:53.580519Z",
     "iopub.status.idle": "2023-02-20T19:07:53.588799Z",
     "shell.execute_reply": "2023-02-20T19:07:53.587788Z"
    },
    "papermill": {
     "duration": 0.017769,
     "end_time": "2023-02-20T19:07:53.590841",
     "exception": false,
     "start_time": "2023-02-20T19:07:53.573072",
     "status": "completed"
    },
    "tags": []
   },
   "outputs": [],
   "source": [
    "# Add text lenght to new column\n",
    "train_df['text_lenght'] = train_df['text'].apply(\n",
    "    lambda x : len(x)\n",
    ")\n"
   ]
  },
  {
   "cell_type": "code",
   "execution_count": 8,
   "id": "8d29deca",
   "metadata": {
    "execution": {
     "iopub.execute_input": "2023-02-20T19:07:53.604528Z",
     "iopub.status.busy": "2023-02-20T19:07:53.604252Z",
     "iopub.status.idle": "2023-02-20T19:07:53.613316Z",
     "shell.execute_reply": "2023-02-20T19:07:53.612459Z"
    },
    "papermill": {
     "duration": 0.01818,
     "end_time": "2023-02-20T19:07:53.615243",
     "exception": false,
     "start_time": "2023-02-20T19:07:53.597063",
     "status": "completed"
    },
    "tags": []
   },
   "outputs": [],
   "source": [
    "# target to labels\n",
    "train_df['label'] = train_df['target'].apply(\n",
    "    lambda x : 'Disaster' if x == 1 else 'Not disaster'\n",
    ")"
   ]
  },
  {
   "cell_type": "code",
   "execution_count": 9,
   "id": "3aedc4a2",
   "metadata": {
    "execution": {
     "iopub.execute_input": "2023-02-20T19:07:53.629633Z",
     "iopub.status.busy": "2023-02-20T19:07:53.628612Z",
     "iopub.status.idle": "2023-02-20T19:07:53.830685Z",
     "shell.execute_reply": "2023-02-20T19:07:53.829589Z"
    },
    "papermill": {
     "duration": 0.211386,
     "end_time": "2023-02-20T19:07:53.832981",
     "exception": false,
     "start_time": "2023-02-20T19:07:53.621595",
     "status": "completed"
    },
    "tags": []
   },
   "outputs": [
    {
     "data": {
      "text/plain": [
       "([<matplotlib.axis.XTick at 0x7ff92f5e3290>,\n",
       "  <matplotlib.axis.XTick at 0x7ff92f5e3650>],\n",
       " [Text(0, 0, '0'), Text(1, 0, '1')])"
      ]
     },
     "execution_count": 9,
     "metadata": {},
     "output_type": "execute_result"
    },
    {
     "data": {
      "image/png": "[encoded data removed]",
      "text/plain": [
       "<Figure size 640x480 with 1 Axes>"
      ]
     },
     "metadata": {},
     "output_type": "display_data"
    }
   ],
   "source": [
    "sns.countplot(x = train_df['target'])\n",
    "plt.xticks(ticks = [0,1])"
   ]
  },
  {
   "cell_type": "code",
   "execution_count": 10,
   "id": "24a3d64c",
   "metadata": {
    "execution": {
     "iopub.execute_input": "2023-02-20T19:07:53.847727Z",
     "iopub.status.busy": "2023-02-20T19:07:53.847401Z",
     "iopub.status.idle": "2023-02-20T19:07:54.196699Z",
     "shell.execute_reply": "2023-02-20T19:07:54.195604Z"
    },
    "papermill": {
     "duration": 0.35907,
     "end_time": "2023-02-20T19:07:54.198896",
     "exception": false,
     "start_time": "2023-02-20T19:07:53.839826",
     "status": "completed"
    },
    "tags": []
   },
   "outputs": [
    {
     "data": {
      "image/png": "[encoded data removed]",
      "text/plain": [
       "<Figure size 640x480 with 1 Axes>"
      ]
     },
     "metadata": {},
     "output_type": "display_data"
    }
   ],
   "source": [
    "# Distribution of text lenght for each label\n",
    "def dis_plot(group_col,focus_col):\n",
    "    labels = train_df[group_col].unique()\n",
    "    groups = train_df.groupby(group_col)[focus_col]\n",
    "    for idx, grp in enumerate(groups.apply(list)):\n",
    "        ax = sns.kdeplot(\n",
    "            data = grp, label = labels[idx],fill = True\n",
    "        )\n",
    "    ax.legend()\n",
    "    plt.xlabel(focus_col)\n",
    "\n",
    "dis_plot('label','text_lenght')"
   ]
  },
  {
   "cell_type": "markdown",
   "id": "c39641df",
   "metadata": {
    "papermill": {
     "duration": 0.007081,
     "end_time": "2023-02-20T19:07:54.213830",
     "exception": false,
     "start_time": "2023-02-20T19:07:54.206749",
     "status": "completed"
    },
    "tags": []
   },
   "source": [
    "# Count Stopwords"
   ]
  },
  {
   "cell_type": "code",
   "execution_count": 11,
   "id": "13067aa6",
   "metadata": {
    "execution": {
     "iopub.execute_input": "2023-02-20T19:07:54.229797Z",
     "iopub.status.busy": "2023-02-20T19:07:54.228971Z",
     "iopub.status.idle": "2023-02-20T19:07:54.260633Z",
     "shell.execute_reply": "2023-02-20T19:07:54.259777Z"
    },
    "papermill": {
     "duration": 0.041955,
     "end_time": "2023-02-20T19:07:54.262823",
     "exception": false,
     "start_time": "2023-02-20T19:07:54.220868",
     "status": "completed"
    },
    "tags": []
   },
   "outputs": [],
   "source": [
    "stop_words = set(stopwords.words('english'))\n",
    "def count_stopwords(txts):\n",
    "    stp_w = [word for word in txts.split() if word in stop_words]\n",
    "    return len(stp_w)\n",
    "\n",
    "train_df['stop_words'] = train_df['text'].apply(count_stopwords)"
   ]
  },
  {
   "cell_type": "code",
   "execution_count": 12,
   "id": "e9786adb",
   "metadata": {
    "execution": {
     "iopub.execute_input": "2023-02-20T19:07:54.278332Z",
     "iopub.status.busy": "2023-02-20T19:07:54.278044Z",
     "iopub.status.idle": "2023-02-20T19:07:54.569299Z",
     "shell.execute_reply": "2023-02-20T19:07:54.568338Z"
    },
    "papermill": {
     "duration": 0.301621,
     "end_time": "2023-02-20T19:07:54.571508",
     "exception": false,
     "start_time": "2023-02-20T19:07:54.269887",
     "status": "completed"
    },
    "tags": []
   },
   "outputs": [
    {
     "data": {
      "image/png": "[encoded data removed]",
      "text/plain": [
       "<Figure size 640x480 with 1 Axes>"
      ]
     },
     "metadata": {},
     "output_type": "display_data"
    }
   ],
   "source": [
    "dis_plot('label','stop_words')"
   ]
  },
  {
   "cell_type": "markdown",
   "id": "79a2e705",
   "metadata": {
    "papermill": {
     "duration": 0.007637,
     "end_time": "2023-02-20T19:07:54.587442",
     "exception": false,
     "start_time": "2023-02-20T19:07:54.579805",
     "status": "completed"
    },
    "tags": []
   },
   "source": [
    "# Fold Manager"
   ]
  },
  {
   "cell_type": "code",
   "execution_count": 13,
   "id": "de1db32e",
   "metadata": {
    "execution": {
     "iopub.execute_input": "2023-02-20T19:07:54.604529Z",
     "iopub.status.busy": "2023-02-20T19:07:54.603839Z",
     "iopub.status.idle": "2023-02-20T19:07:54.613417Z",
     "shell.execute_reply": "2023-02-20T19:07:54.612541Z"
    },
    "papermill": {
     "duration": 0.020437,
     "end_time": "2023-02-20T19:07:54.615482",
     "exception": false,
     "start_time": "2023-02-20T19:07:54.595045",
     "status": "completed"
    },
    "tags": []
   },
   "outputs": [],
   "source": [
    "from dataclasses import dataclass,field\n",
    "\n",
    "@dataclass\n",
    "class FoldData:\n",
    "    train_x: tf.Tensor = field()\n",
    "    test_x: tf.Tensor = field()\n",
    "    train_y: tf.Tensor = field()\n",
    "    test_y: tf.Tensor = field()\n",
    "\n",
    "class FoldManager:\n",
    "    \n",
    "    def extract_fold(self, fold_index:list , X, Y ):\n",
    "        for train, test in fold_index:\n",
    "            yield FoldData(\n",
    "                train_x = tf.gather( X, train ),\n",
    "                test_x = tf.gather( X, test ),\n",
    "                train_y = tf.gather( Y, train ),\n",
    "                test_y = tf.gather( Y, test ) \n",
    "            )\n",
    "    \n",
    "    # V V V\n",
    "    \n",
    "    def train_fold( self, batch_of_folds, ep, batch_size ):\n",
    "        tf.keras.backend.clear_session()\n",
    "        md_history = []\n",
    "        for i,fold in enumerate(batch_of_folds):\n",
    "            print(f'Fold: {i+1}')\n",
    "            model.fit(\n",
    "                fold.train_x,\n",
    "                fold.train_y,\n",
    "                epochs = ep,\n",
    "                batch_size = batch_size,\n",
    "            )\n",
    "            \n",
    "            print('Evaluating....')\n",
    "            \n",
    "            model.evaluate(\n",
    "                fold.test_x,\n",
    "                fold.test_y,\n",
    "                batch_size = batch_size\n",
    "            )"
   ]
  },
  {
   "cell_type": "code",
   "execution_count": 14,
   "id": "8366f2b7",
   "metadata": {
    "execution": {
     "iopub.execute_input": "2023-02-20T19:07:54.631868Z",
     "iopub.status.busy": "2023-02-20T19:07:54.631573Z",
     "iopub.status.idle": "2023-02-20T19:07:55.050436Z",
     "shell.execute_reply": "2023-02-20T19:07:55.049408Z"
    },
    "papermill": {
     "duration": 0.429976,
     "end_time": "2023-02-20T19:07:55.052988",
     "exception": false,
     "start_time": "2023-02-20T19:07:54.623012",
     "status": "completed"
    },
    "tags": []
   },
   "outputs": [],
   "source": [
    "import tensorflow_hub as hub\n",
    "import tensorflow_text as text "
   ]
  },
  {
   "cell_type": "markdown",
   "id": "beb15a19",
   "metadata": {
    "execution": {
     "iopub.execute_input": "2023-02-20T12:54:28.104347Z",
     "iopub.status.busy": "2023-02-20T12:54:28.103885Z",
     "iopub.status.idle": "2023-02-20T12:54:28.109143Z",
     "shell.execute_reply": "2023-02-20T12:54:28.108154Z",
     "shell.execute_reply.started": "2023-02-20T12:54:28.104311Z"
    },
    "papermill": {
     "duration": 0.007582,
     "end_time": "2023-02-20T19:07:55.068582",
     "exception": false,
     "start_time": "2023-02-20T19:07:55.061000",
     "status": "completed"
    },
    "tags": []
   },
   "source": [
    "# Model selector"
   ]
  },
  {
   "cell_type": "code",
   "execution_count": 15,
   "id": "58679ce4",
   "metadata": {
    "_kg_hide-input": true,
    "execution": {
     "iopub.execute_input": "2023-02-20T19:07:55.085465Z",
     "iopub.status.busy": "2023-02-20T19:07:55.085169Z",
     "iopub.status.idle": "2023-02-20T19:07:55.097497Z",
     "shell.execute_reply": "2023-02-20T19:07:55.096621Z"
    },
    "papermill": {
     "duration": 0.023291,
     "end_time": "2023-02-20T19:07:55.099438",
     "exception": false,
     "start_time": "2023-02-20T19:07:55.076147",
     "status": "completed"
    },
    "tags": []
   },
   "outputs": [],
   "source": [
    "map_name_to_handle = {\n",
    "    'bert_en_uncased_L-12_H-768_A-12':\n",
    "        'https://tfhub.dev/tensorflow/bert_en_uncased_L-12_H-768_A-12/3',\n",
    "    'bert_en_cased_L-12_H-768_A-12':\n",
    "        'https://tfhub.dev/tensorflow/bert_en_cased_L-12_H-768_A-12/3',\n",
    "    'bert_multi_cased_L-12_H-768_A-12':\n",
    "        'https://tfhub.dev/tensorflow/bert_multi_cased_L-12_H-768_A-12/3',\n",
    "    'small_bert/bert_en_uncased_L-2_H-128_A-2':\n",
    "        'https://tfhub.dev/tensorflow/small_bert/bert_en_uncased_L-2_H-128_A-2/1',\n",
    "    'small_bert/bert_en_uncased_L-2_H-256_A-4':\n",
    "        'https://tfhub.dev/tensorflow/small_bert/bert_en_uncased_L-2_H-256_A-4/1',\n",
    "    'small_bert/bert_en_uncased_L-2_H-512_A-8':\n",
    "        'https://tfhub.dev/tensorflow/small_bert/bert_en_uncased_L-2_H-512_A-8/1',\n",
    "    'small_bert/bert_en_uncased_L-2_H-768_A-12':\n",
    "        'https://tfhub.dev/tensorflow/small_bert/bert_en_uncased_L-2_H-768_A-12/1',\n",
    "    'small_bert/bert_en_uncased_L-4_H-128_A-2':\n",
    "        'https://tfhub.dev/tensorflow/small_bert/bert_en_uncased_L-4_H-128_A-2/1',\n",
    "    'small_bert/bert_en_uncased_L-4_H-256_A-4':\n",
    "        'https://tfhub.dev/tensorflow/small_bert/bert_en_uncased_L-4_H-256_A-4/1',\n",
    "    'small_bert/bert_en_uncased_L-4_H-512_A-8':\n",
    "        'https://tfhub.dev/tensorflow/small_bert/bert_en_uncased_L-4_H-512_A-8/1',\n",
    "    'small_bert/bert_en_uncased_L-4_H-768_A-12':\n",
    "        'https://tfhub.dev/tensorflow/small_bert/bert_en_uncased_L-4_H-768_A-12/1',\n",
    "    'small_bert/bert_en_uncased_L-6_H-128_A-2':\n",
    "        'https://tfhub.dev/tensorflow/small_bert/bert_en_uncased_L-6_H-128_A-2/1',\n",
    "    'small_bert/bert_en_uncased_L-6_H-256_A-4':\n",
    "        'https://tfhub.dev/tensorflow/small_bert/bert_en_uncased_L-6_H-256_A-4/1',\n",
    "    'small_bert/bert_en_uncased_L-6_H-512_A-8':\n",
    "        'https://tfhub.dev/tensorflow/small_bert/bert_en_uncased_L-6_H-512_A-8/1',\n",
    "    'small_bert/bert_en_uncased_L-6_H-768_A-12':\n",
    "        'https://tfhub.dev/tensorflow/small_bert/bert_en_uncased_L-6_H-768_A-12/1',\n",
    "    'small_bert/bert_en_uncased_L-8_H-128_A-2':\n",
    "        'https://tfhub.dev/tensorflow/small_bert/bert_en_uncased_L-8_H-128_A-2/1',\n",
    "    'small_bert/bert_en_uncased_L-8_H-256_A-4':\n",
    "        'https://tfhub.dev/tensorflow/small_bert/bert_en_uncased_L-8_H-256_A-4/1',\n",
    "    'small_bert/bert_en_uncased_L-8_H-512_A-8':\n",
    "        'https://tfhub.dev/tensorflow/small_bert/bert_en_uncased_L-8_H-512_A-8/1',\n",
    "    'small_bert/bert_en_uncased_L-8_H-768_A-12':\n",
    "        'https://tfhub.dev/tensorflow/small_bert/bert_en_uncased_L-8_H-768_A-12/1',\n",
    "    'small_bert/bert_en_uncased_L-10_H-128_A-2':\n",
    "        'https://tfhub.dev/tensorflow/small_bert/bert_en_uncased_L-10_H-128_A-2/1',\n",
    "    'small_bert/bert_en_uncased_L-10_H-256_A-4':\n",
    "        'https://tfhub.dev/tensorflow/small_bert/bert_en_uncased_L-10_H-256_A-4/1',\n",
    "    'small_bert/bert_en_uncased_L-10_H-512_A-8':\n",
    "        'https://tfhub.dev/tensorflow/small_bert/bert_en_uncased_L-10_H-512_A-8/1',\n",
    "    'small_bert/bert_en_uncased_L-10_H-768_A-12':\n",
    "        'https://tfhub.dev/tensorflow/small_bert/bert_en_uncased_L-10_H-768_A-12/1',\n",
    "    'small_bert/bert_en_uncased_L-12_H-128_A-2':\n",
    "        'https://tfhub.dev/tensorflow/small_bert/bert_en_uncased_L-12_H-128_A-2/1',\n",
    "    'small_bert/bert_en_uncased_L-12_H-256_A-4':\n",
    "        'https://tfhub.dev/tensorflow/small_bert/bert_en_uncased_L-12_H-256_A-4/1',\n",
    "    'small_bert/bert_en_uncased_L-12_H-512_A-8':\n",
    "        'https://tfhub.dev/tensorflow/small_bert/bert_en_uncased_L-12_H-512_A-8/1',\n",
    "    'small_bert/bert_en_uncased_L-12_H-768_A-12':\n",
    "        'https://tfhub.dev/tensorflow/small_bert/bert_en_uncased_L-12_H-768_A-12/1',\n",
    "    'albert_en_base':\n",
    "        'https://tfhub.dev/tensorflow/albert_en_base/2',\n",
    "    'electra_small':\n",
    "        'https://tfhub.dev/google/electra_small/2',\n",
    "    'electra_base':\n",
    "        'https://tfhub.dev/google/electra_base/2',\n",
    "    'experts_pubmed':\n",
    "        'https://tfhub.dev/google/experts/bert/pubmed/2',\n",
    "    'experts_wiki_books':\n",
    "        'https://tfhub.dev/google/experts/bert/wiki_books/2',\n",
    "    'talking-heads_base':\n",
    "        'https://tfhub.dev/tensorflow/talkheads_ggelu_bert_en_base/1',\n",
    "}\n",
    "\n",
    "map_model_to_preprocess = {\n",
    "    'bert_en_uncased_L-12_H-768_A-12':\n",
    "        'https://tfhub.dev/tensorflow/bert_en_uncased_preprocess/3',\n",
    "    'bert_en_cased_L-12_H-768_A-12':\n",
    "        'https://tfhub.dev/tensorflow/bert_en_cased_preprocess/3',\n",
    "    'small_bert/bert_en_uncased_L-2_H-128_A-2':\n",
    "        'https://tfhub.dev/tensorflow/bert_en_uncased_preprocess/3',\n",
    "    'small_bert/bert_en_uncased_L-2_H-256_A-4':\n",
    "        'https://tfhub.dev/tensorflow/bert_en_uncased_preprocess/3',\n",
    "    'small_bert/bert_en_uncased_L-2_H-512_A-8':\n",
    "        'https://tfhub.dev/tensorflow/bert_en_uncased_preprocess/3',\n",
    "    'small_bert/bert_en_uncased_L-2_H-768_A-12':\n",
    "        'https://tfhub.dev/tensorflow/bert_en_uncased_preprocess/3',\n",
    "    'small_bert/bert_en_uncased_L-4_H-128_A-2':\n",
    "        'https://tfhub.dev/tensorflow/bert_en_uncased_preprocess/3',\n",
    "    'small_bert/bert_en_uncased_L-4_H-256_A-4':\n",
    "        'https://tfhub.dev/tensorflow/bert_en_uncased_preprocess/3',\n",
    "    'small_bert/bert_en_uncased_L-4_H-512_A-8':\n",
    "        'https://tfhub.dev/tensorflow/bert_en_uncased_preprocess/3',\n",
    "    'small_bert/bert_en_uncased_L-4_H-768_A-12':\n",
    "        'https://tfhub.dev/tensorflow/bert_en_uncased_preprocess/3',\n",
    "    'small_bert/bert_en_uncased_L-6_H-128_A-2':\n",
    "        'https://tfhub.dev/tensorflow/bert_en_uncased_preprocess/3',\n",
    "    'small_bert/bert_en_uncased_L-6_H-256_A-4':\n",
    "        'https://tfhub.dev/tensorflow/bert_en_uncased_preprocess/3',\n",
    "    'small_bert/bert_en_uncased_L-6_H-512_A-8':\n",
    "        'https://tfhub.dev/tensorflow/bert_en_uncased_preprocess/3',\n",
    "    'small_bert/bert_en_uncased_L-6_H-768_A-12':\n",
    "        'https://tfhub.dev/tensorflow/bert_en_uncased_preprocess/3',\n",
    "    'small_bert/bert_en_uncased_L-8_H-128_A-2':\n",
    "        'https://tfhub.dev/tensorflow/bert_en_uncased_preprocess/3',\n",
    "    'small_bert/bert_en_uncased_L-8_H-256_A-4':\n",
    "        'https://tfhub.dev/tensorflow/bert_en_uncased_preprocess/3',\n",
    "    'small_bert/bert_en_uncased_L-8_H-512_A-8':\n",
    "        'https://tfhub.dev/tensorflow/bert_en_uncased_preprocess/3',\n",
    "    'small_bert/bert_en_uncased_L-8_H-768_A-12':\n",
    "        'https://tfhub.dev/tensorflow/bert_en_uncased_preprocess/3',\n",
    "    'small_bert/bert_en_uncased_L-10_H-128_A-2':\n",
    "        'https://tfhub.dev/tensorflow/bert_en_uncased_preprocess/3',\n",
    "    'small_bert/bert_en_uncased_L-10_H-256_A-4':\n",
    "        'https://tfhub.dev/tensorflow/bert_en_uncased_preprocess/3',\n",
    "    'small_bert/bert_en_uncased_L-10_H-512_A-8':\n",
    "        'https://tfhub.dev/tensorflow/bert_en_uncased_preprocess/3',\n",
    "    'small_bert/bert_en_uncased_L-10_H-768_A-12':\n",
    "        'https://tfhub.dev/tensorflow/bert_en_uncased_preprocess/3',\n",
    "    'small_bert/bert_en_uncased_L-12_H-128_A-2':\n",
    "        'https://tfhub.dev/tensorflow/bert_en_uncased_preprocess/3',\n",
    "    'small_bert/bert_en_uncased_L-12_H-256_A-4':\n",
    "        'https://tfhub.dev/tensorflow/bert_en_uncased_preprocess/3',\n",
    "    'small_bert/bert_en_uncased_L-12_H-512_A-8':\n",
    "        'https://tfhub.dev/tensorflow/bert_en_uncased_preprocess/3',\n",
    "    'small_bert/bert_en_uncased_L-12_H-768_A-12':\n",
    "        'https://tfhub.dev/tensorflow/bert_en_uncased_preprocess/3',\n",
    "    'bert_multi_cased_L-12_H-768_A-12':\n",
    "        'https://tfhub.dev/tensorflow/bert_multi_cased_preprocess/3',\n",
    "    'albert_en_base':\n",
    "        'https://tfhub.dev/tensorflow/albert_en_preprocess/3',\n",
    "    'electra_small':\n",
    "        'https://tfhub.dev/tensorflow/bert_en_uncased_preprocess/3',\n",
    "    'electra_base':\n",
    "        'https://tfhub.dev/tensorflow/bert_en_uncased_preprocess/3',\n",
    "    'experts_pubmed':\n",
    "        'https://tfhub.dev/tensorflow/bert_en_uncased_preprocess/3',\n",
    "    'experts_wiki_books':\n",
    "        'https://tfhub.dev/tensorflow/bert_en_uncased_preprocess/3',\n",
    "    'talking-heads_base':\n",
    "        'https://tfhub.dev/tensorflow/bert_en_uncased_preprocess/3',\n",
    "}"
   ]
  },
  {
   "cell_type": "code",
   "execution_count": 16,
   "id": "0a53b92b",
   "metadata": {
    "execution": {
     "iopub.execute_input": "2023-02-20T19:07:55.116628Z",
     "iopub.status.busy": "2023-02-20T19:07:55.115709Z",
     "iopub.status.idle": "2023-02-20T19:07:55.122858Z",
     "shell.execute_reply": "2023-02-20T19:07:55.122008Z"
    },
    "papermill": {
     "duration": 0.017578,
     "end_time": "2023-02-20T19:07:55.124819",
     "exception": false,
     "start_time": "2023-02-20T19:07:55.107241",
     "status": "completed"
    },
    "tags": []
   },
   "outputs": [],
   "source": [
    "def build_classifier_model(_name):\n",
    "    text_input = tf.keras.layers.Input(shape=(), dtype=tf.string, name='text')\n",
    "    preprocessing_layer = hub.KerasLayer(map_model_to_preprocess[_name],trainable = True,name = 'preprocess')\n",
    "    encoder_inputs = preprocessing_layer(text_input)\n",
    "    encoder = hub.KerasLayer(map_name_to_handle[_name], trainable = True, name = 'encoder')\n",
    "    outputs = encoder(encoder_inputs)\n",
    "    lstm = layers.Bidirectional(\n",
    "                layers.LSTM(16,dropout = 0.2)\n",
    "            )(outputs['sequence_output'])\n",
    "    outp = layers.Dropout(0.2, name=\"dropout\")(lstm)\n",
    "    classifier = tf.keras.layers.Dense(1, activation=None, name='classifier')(outp)\n",
    "    return tf.keras.Model(text_input, classifier)"
   ]
  },
  {
   "cell_type": "code",
   "execution_count": 17,
   "id": "80ab34e4",
   "metadata": {
    "execution": {
     "iopub.execute_input": "2023-02-20T19:07:55.141777Z",
     "iopub.status.busy": "2023-02-20T19:07:55.140980Z",
     "iopub.status.idle": "2023-02-20T19:08:18.680199Z",
     "shell.execute_reply": "2023-02-20T19:08:18.679174Z"
    },
    "papermill": {
     "duration": 23.550416,
     "end_time": "2023-02-20T19:08:18.682887",
     "exception": false,
     "start_time": "2023-02-20T19:07:55.132471",
     "status": "completed"
    },
    "tags": []
   },
   "outputs": [],
   "source": [
    "model = build_classifier_model('bert_en_cased_L-12_H-768_A-12')"
   ]
  },
  {
   "cell_type": "code",
   "execution_count": 18,
   "id": "da50c385",
   "metadata": {
    "execution": {
     "iopub.execute_input": "2023-02-20T19:08:18.699978Z",
     "iopub.status.busy": "2023-02-20T19:08:18.699680Z",
     "iopub.status.idle": "2023-02-20T19:08:18.768261Z",
     "shell.execute_reply": "2023-02-20T19:08:18.767475Z"
    },
    "papermill": {
     "duration": 0.100461,
     "end_time": "2023-02-20T19:08:18.791474",
     "exception": false,
     "start_time": "2023-02-20T19:08:18.691013",
     "status": "completed"
    },
    "tags": []
   },
   "outputs": [
    {
     "name": "stdout",
     "output_type": "stream",
     "text": [
      "Model: \"model\"\n",
      "__________________________________________________________________________________________________\n",
      " Layer (type)                   Output Shape         Param #     Connected to                     \n",
      "==================================================================================================\n",
      " text (InputLayer)              [(None,)]            0           []                               \n",
      "                                                                                                  \n",
      " preprocess (KerasLayer)        {'input_type_ids':   0           ['text[0][0]']                   \n",
      "                                (None, 128),                                                      \n",
      "                                 'input_mask': (Non                                               \n",
      "                                e, 128),                                                          \n",
      "                                 'input_word_ids':                                                \n",
      "                                (None, 128)}                                                      \n",
      "                                                                                                  \n",
      " encoder (KerasLayer)           {'pooled_output': (  108310273   ['preprocess[0][0]',             \n",
      "                                None, 768),                       'preprocess[0][1]',             \n",
      "                                 'sequence_output':               'preprocess[0][2]']             \n",
      "                                 (None, 128, 768),                                                \n",
      "                                 'default': (None,                                                \n",
      "                                768),                                                             \n",
      "                                 'encoder_outputs':                                               \n",
      "                                 [(None, 128, 768),                                               \n",
      "                                 (None, 128, 768),                                                \n",
      "                                 (None, 128, 768),                                                \n",
      "                                 (None, 128, 768),                                                \n",
      "                                 (None, 128, 768),                                                \n",
      "                                 (None, 128, 768),                                                \n",
      "                                 (None, 128, 768),                                                \n",
      "                                 (None, 128, 768),                                                \n",
      "                                 (None, 128, 768),                                                \n",
      "                                 (None, 128, 768),                                                \n",
      "                                 (None, 128, 768),                                                \n",
      "                                 (None, 128, 768)]}                                               \n",
      "                                                                                                  \n",
      " bidirectional (Bidirectional)  (None, 32)           100480      ['encoder[0][14]']               \n",
      "                                                                                                  \n",
      " dropout (Dropout)              (None, 32)           0           ['bidirectional[0][0]']          \n",
      "                                                                                                  \n",
      " classifier (Dense)             (None, 1)            33          ['dropout[0][0]']                \n",
      "                                                                                                  \n",
      "==================================================================================================\n",
      "Total params: 108,410,788\n",
      "Trainable params: 108,410,785\n",
      "Non-trainable params: 3\n",
      "__________________________________________________________________________________________________\n"
     ]
    }
   ],
   "source": [
    "model.compile( loss=losses.BinaryCrossentropy(from_logits = True), \n",
    "              optimizer = optimizers.experimental.Adam(learning_rate = 0.0001), \n",
    "              metrics = [ 'accuracy', metrics.BinaryAccuracy() ] )\n",
    "model.summary()"
   ]
  },
  {
   "cell_type": "code",
   "execution_count": 19,
   "id": "e6591ca3",
   "metadata": {
    "execution": {
     "iopub.execute_input": "2023-02-20T19:08:18.813623Z",
     "iopub.status.busy": "2023-02-20T19:08:18.813344Z",
     "iopub.status.idle": "2023-02-20T19:08:18.819540Z",
     "shell.execute_reply": "2023-02-20T19:08:18.818522Z"
    },
    "papermill": {
     "duration": 0.018879,
     "end_time": "2023-02-20T19:08:18.821539",
     "exception": false,
     "start_time": "2023-02-20T19:08:18.802660",
     "status": "completed"
    },
    "tags": []
   },
   "outputs": [],
   "source": [
    "X_input = tf.convert_to_tensor(train_df['text'])\n",
    "\n",
    "# ## One Hot Encoding\n",
    "# Y_raw = train_df['target']\n",
    "# classes = Y_raw.nunique()\n",
    "# one_h = layers.CategoryEncoding(num_tokens = classes, output_mode = 'one_hot')\n",
    "# Y_label = tf.convert_to_tensor(one_h(Y_raw))\n",
    "\n",
    "Y_label = tf.convert_to_tensor(train_df['target'])"
   ]
  },
  {
   "cell_type": "code",
   "execution_count": 20,
   "id": "1cccb2af",
   "metadata": {
    "execution": {
     "iopub.execute_input": "2023-02-20T19:08:18.842785Z",
     "iopub.status.busy": "2023-02-20T19:08:18.842071Z",
     "iopub.status.idle": "2023-02-20T19:16:15.832854Z",
     "shell.execute_reply": "2023-02-20T19:16:15.831720Z"
    },
    "papermill": {
     "duration": 477.004326,
     "end_time": "2023-02-20T19:16:15.835754",
     "exception": false,
     "start_time": "2023-02-20T19:08:18.831428",
     "status": "completed"
    },
    "tags": []
   },
   "outputs": [
    {
     "name": "stdout",
     "output_type": "stream",
     "text": [
      "Fold: 1\n",
      "159/159 [==============================] - 135s 556ms/step - loss: 0.4889 - accuracy: 0.7769 - binary_accuracy: 0.7769\n",
      "Evaluating....\n",
      "80/80 [==============================] - 20s 226ms/step - loss: 0.4002 - accuracy: 0.8164 - binary_accuracy: 0.8164\n",
      "Fold: 2\n",
      "159/159 [==============================] - 89s 557ms/step - loss: 0.3905 - accuracy: 0.8357 - binary_accuracy: 0.8357\n",
      "Evaluating....\n",
      "80/80 [==============================] - 18s 224ms/step - loss: 0.3550 - accuracy: 0.8203 - binary_accuracy: 0.8203\n",
      "Fold: 3\n",
      "159/159 [==============================] - 89s 557ms/step - loss: 0.3379 - accuracy: 0.8631 - binary_accuracy: 0.8631\n",
      "Evaluating....\n",
      "80/80 [==============================] - 18s 225ms/step - loss: 0.2702 - accuracy: 0.8971 - binary_accuracy: 0.8971\n"
     ]
    }
   ],
   "source": [
    "shf = StratifiedKFold(n_splits = 3,random_state = 1337, shuffle = True)\n",
    "splitted = shf.split(X_input,train_df['target'])\n",
    "\n",
    "fold = FoldManager()\n",
    "extrc_fold = fold.extract_fold(splitted,X_input,Y_label)\n",
    "fold.train_fold(extrc_fold,1, batch_size = 32)"
   ]
  },
  {
   "cell_type": "code",
   "execution_count": 21,
   "id": "f4fd692c",
   "metadata": {
    "execution": {
     "iopub.execute_input": "2023-02-20T19:16:15.933221Z",
     "iopub.status.busy": "2023-02-20T19:16:15.932839Z",
     "iopub.status.idle": "2023-02-20T19:16:40.133513Z",
     "shell.execute_reply": "2023-02-20T19:16:40.132423Z"
    },
    "papermill": {
     "duration": 24.252357,
     "end_time": "2023-02-20T19:16:40.136154",
     "exception": false,
     "start_time": "2023-02-20T19:16:15.883797",
     "status": "completed"
    },
    "tags": []
   },
   "outputs": [
    {
     "name": "stdout",
     "output_type": "stream",
     "text": [
      "102/102 [==============================] - 24s 221ms/step\n"
     ]
    }
   ],
   "source": [
    "pred_one_h = model.predict(test_df['text'])"
   ]
  },
  {
   "cell_type": "code",
   "execution_count": 22,
   "id": "af83f218",
   "metadata": {
    "execution": {
     "iopub.execute_input": "2023-02-20T19:16:40.244055Z",
     "iopub.status.busy": "2023-02-20T19:16:40.243113Z",
     "iopub.status.idle": "2023-02-20T19:16:40.248619Z",
     "shell.execute_reply": "2023-02-20T19:16:40.247707Z"
    },
    "papermill": {
     "duration": 0.06075,
     "end_time": "2023-02-20T19:16:40.250666",
     "exception": false,
     "start_time": "2023-02-20T19:16:40.189916",
     "status": "completed"
    },
    "tags": []
   },
   "outputs": [],
   "source": [
    "pred_one_h[pred_one_h < 0] = 0\n",
    "pred_one_h[pred_one_h > 0] = 1"
   ]
  },
  {
   "cell_type": "code",
   "execution_count": 23,
   "id": "994d1fc1",
   "metadata": {
    "execution": {
     "iopub.execute_input": "2023-02-20T19:16:40.357085Z",
     "iopub.status.busy": "2023-02-20T19:16:40.356745Z",
     "iopub.status.idle": "2023-02-20T19:16:40.362364Z",
     "shell.execute_reply": "2023-02-20T19:16:40.361294Z"
    },
    "papermill": {
     "duration": 0.061843,
     "end_time": "2023-02-20T19:16:40.364762",
     "exception": false,
     "start_time": "2023-02-20T19:16:40.302919",
     "status": "completed"
    },
    "tags": []
   },
   "outputs": [],
   "source": [
    "test_df['target'] = pred_one_h.astype('int')"
   ]
  },
  {
   "cell_type": "code",
   "execution_count": 24,
   "id": "183f9c8b",
   "metadata": {
    "execution": {
     "iopub.execute_input": "2023-02-20T19:16:40.471619Z",
     "iopub.status.busy": "2023-02-20T19:16:40.471251Z",
     "iopub.status.idle": "2023-02-20T19:16:40.485226Z",
     "shell.execute_reply": "2023-02-20T19:16:40.483897Z"
    },
    "papermill": {
     "duration": 0.0705,
     "end_time": "2023-02-20T19:16:40.488043",
     "exception": false,
     "start_time": "2023-02-20T19:16:40.417543",
     "status": "completed"
    },
    "tags": []
   },
   "outputs": [
    {
     "data": {
      "text/html": [
       "<div>\n",
       "<style scoped>\n",
       "    .dataframe tbody tr th:only-of-type {\n",
       "        vertical-align: middle;\n",
       "    }\n",
       "\n",
       "    .dataframe tbody tr th {\n",
       "        vertical-align: top;\n",
       "    }\n",
       "\n",
       "    .dataframe thead th {\n",
       "        text-align: right;\n",
       "    }\n",
       "</style>\n",
       "<table border=\"1\" class=\"dataframe\">\n",
       "  <thead>\n",
       "    <tr style=\"text-align: right;\">\n",
       "      <th></th>\n",
       "      <th>id</th>\n",
       "      <th>target</th>\n",
       "    </tr>\n",
       "  </thead>\n",
       "  <tbody>\n",
       "    <tr>\n",
       "      <th>0</th>\n",
       "      <td>0</td>\n",
       "      <td>1</td>\n",
       "    </tr>\n",
       "    <tr>\n",
       "      <th>1</th>\n",
       "      <td>2</td>\n",
       "      <td>1</td>\n",
       "    </tr>\n",
       "    <tr>\n",
       "      <th>2</th>\n",
       "      <td>3</td>\n",
       "      <td>1</td>\n",
       "    </tr>\n",
       "    <tr>\n",
       "      <th>3</th>\n",
       "      <td>9</td>\n",
       "      <td>1</td>\n",
       "    </tr>\n",
       "    <tr>\n",
       "      <th>4</th>\n",
       "      <td>11</td>\n",
       "      <td>1</td>\n",
       "    </tr>\n",
       "    <tr>\n",
       "      <th>...</th>\n",
       "      <td>...</td>\n",
       "      <td>...</td>\n",
       "    </tr>\n",
       "    <tr>\n",
       "      <th>495</th>\n",
       "      <td>1616</td>\n",
       "      <td>1</td>\n",
       "    </tr>\n",
       "    <tr>\n",
       "      <th>496</th>\n",
       "      <td>1620</td>\n",
       "      <td>0</td>\n",
       "    </tr>\n",
       "    <tr>\n",
       "      <th>497</th>\n",
       "      <td>1624</td>\n",
       "      <td>0</td>\n",
       "    </tr>\n",
       "    <tr>\n",
       "      <th>498</th>\n",
       "      <td>1629</td>\n",
       "      <td>1</td>\n",
       "    </tr>\n",
       "    <tr>\n",
       "      <th>499</th>\n",
       "      <td>1630</td>\n",
       "      <td>1</td>\n",
       "    </tr>\n",
       "  </tbody>\n",
       "</table>\n",
       "<p>500 rows × 2 columns</p>\n",
       "</div>"
      ],
      "text/plain": [
       "       id  target\n",
       "0       0       1\n",
       "1       2       1\n",
       "2       3       1\n",
       "3       9       1\n",
       "4      11       1\n",
       "..    ...     ...\n",
       "495  1616       1\n",
       "496  1620       0\n",
       "497  1624       0\n",
       "498  1629       1\n",
       "499  1630       1\n",
       "\n",
       "[500 rows x 2 columns]"
      ]
     },
     "execution_count": 24,
     "metadata": {},
     "output_type": "execute_result"
    }
   ],
   "source": [
    "sub_df = test_df[['id','target']].reset_index(drop = True)\n",
    "sub_df[:500]"
   ]
  },
  {
   "cell_type": "code",
   "execution_count": 25,
   "id": "cfedfd81",
   "metadata": {
    "execution": {
     "iopub.execute_input": "2023-02-20T19:16:40.595651Z",
     "iopub.status.busy": "2023-02-20T19:16:40.595278Z",
     "iopub.status.idle": "2023-02-20T19:16:40.605748Z",
     "shell.execute_reply": "2023-02-20T19:16:40.604848Z"
    },
    "papermill": {
     "duration": 0.066735,
     "end_time": "2023-02-20T19:16:40.607812",
     "exception": false,
     "start_time": "2023-02-20T19:16:40.541077",
     "status": "completed"
    },
    "tags": []
   },
   "outputs": [],
   "source": [
    "sub_df.to_csv('submission.csv', index=False)"
   ]
  }
 ],
 "metadata": {
  "kernelspec": {
   "display_name": "Python 3",
   "language": "python",
   "name": "python3"
  },
  "language_info": {
   "codemirror_mode": {
    "name": "ipython",
    "version": 3
   },
   "file_extension": ".py",
   "mimetype": "text/x-python",
   "name": "python",
   "nbconvert_exporter": "python",
   "pygments_lexer": "ipython3",
   "version": "3.7.12"
  },
  "papermill": {
   "default_parameters": {},
   "duration": 547.572496,
   "end_time": "2023-02-20T19:16:44.122971",
   "environment_variables": {},
   "exception": null,
   "input_path": "__notebook__.ipynb",
   "output_path": "__notebook__.ipynb",
   "parameters": {},
   "start_time": "2023-02-20T19:07:36.550475",
   "version": "2.3.4"
  }
 },
 "nbformat": 4,
 "nbformat_minor": 5
}
